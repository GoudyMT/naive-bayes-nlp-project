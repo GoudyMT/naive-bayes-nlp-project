{
 "cells": [
  {
   "cell_type": "markdown",
   "id": "be21b47e-58ac-4c12-90ed-5cd33c4c72bf",
   "metadata": {},
   "source": [
    "# Naive Bayes NLP Project\n",
    "This notebook implements a text classification model using Naive Bayes on the SMS Spam Collection dataset."
   ]
  },
  {
   "cell_type": "code",
   "execution_count": null,
   "id": "fae5468f-0216-4a4a-9816-2d0639dee555",
   "metadata": {},
   "outputs": [],
   "source": []
  }
 ],
 "metadata": {
  "kernelspec": {
   "display_name": "Python 3 (ipykernel)",
   "language": "python",
   "name": "python3"
  },
  "language_info": {
   "codemirror_mode": {
    "name": "ipython",
    "version": 3
   },
   "file_extension": ".py",
   "mimetype": "text/x-python",
   "name": "python",
   "nbconvert_exporter": "python",
   "pygments_lexer": "ipython3",
   "version": "3.12.2"
  }
 },
 "nbformat": 4,
 "nbformat_minor": 5
}
